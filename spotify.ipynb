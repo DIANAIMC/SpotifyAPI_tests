{
 "cells": [
  {
   "cell_type": "markdown",
   "id": "2a7df1a6",
   "metadata": {},
   "source": [
    "# Instalaciones y librerías requeridas\n",
    "---"
   ]
  },
  {
   "cell_type": "code",
   "execution_count": 1,
   "id": "d2b9161e",
   "metadata": {},
   "outputs": [
    {
     "name": "stdout",
     "output_type": "stream",
     "text": [
      "Requirement already satisfied: iteration_utilities in /opt/anaconda3/lib/python3.9/site-packages (0.11.0)\n",
      "Note: you may need to restart the kernel to use updated packages.\n"
     ]
    }
   ],
   "source": [
    "pip install iteration_utilities"
   ]
  },
  {
   "cell_type": "code",
   "execution_count": 2,
   "id": "c5fabec9",
   "metadata": {},
   "outputs": [
    {
     "name": "stdout",
     "output_type": "stream",
     "text": [
      "Requirement already satisfied: pymongo in /opt/anaconda3/lib/python3.9/site-packages (4.3.3)\n",
      "Requirement already satisfied: dnspython<3.0.0,>=1.16.0 in /opt/anaconda3/lib/python3.9/site-packages (from pymongo) (2.2.1)\n",
      "Note: you may need to restart the kernel to use updated packages.\n"
     ]
    }
   ],
   "source": [
    "pip install pymongo"
   ]
  },
  {
   "cell_type": "code",
   "execution_count": 3,
   "id": "2a21aec5",
   "metadata": {},
   "outputs": [],
   "source": [
    "import requests\n",
    "import datetime\n",
    "import pymongo\n",
    "import base64\n",
    "import time\n",
    "import json\n",
    "\n",
    "from pymongo import MongoClient\n",
    "from iteration_utilities import unique_everseen\n",
    "from urllib.parse import urlencode"
   ]
  },
  {
   "cell_type": "markdown",
   "id": "e3b99db8",
   "metadata": {},
   "source": [
    "<br> \n",
    "\n",
    "# Autentificación de Spotify\n",
    "---"
   ]
  },
  {
   "cell_type": "code",
   "execution_count": 4,
   "id": "023d6ddf",
   "metadata": {},
   "outputs": [],
   "source": [
    "class Spotify_Authorization(object):\n",
    "    client_id = 'af1707ed062448f9aa96ffd1b36737ac'\n",
    "    client_secret = '017e9f625cc149b8b1e11c69bd21ef1d'\n",
    "    token_url = \"https://accounts.spotify.com/api/token\"\n",
    "    access_token = None\n",
    "    access_token_expires = datetime.datetime.now()\n",
    "    access_token_did_expire = True\n",
    "    \n",
    "    def __init__(self, *args, **kwargs):\n",
    "        super().__init__(*args, **kwargs)\n",
    "\n",
    "    def get_credentials(self):\n",
    "        \"\"\"\n",
    "        Returns a base64 encoded string\n",
    "        \"\"\"\n",
    "        creds = f\"{self.client_id}:{self.client_secret}\"\n",
    "        creds_b64 = base64.b64encode(creds.encode())\n",
    "        return creds_b64.decode()\n",
    "    \n",
    "    def perform_auth(self):\n",
    "        token_data = {\"grant_type\": \"client_credentials\"}\n",
    "        creds_b64 = self.get_credentials()\n",
    "        token_headers = {\"Authorization\": f\"Basic {creds_b64}\"}\n",
    "        \n",
    "        r = requests.post(self.token_url, data=token_data, headers=token_headers)\n",
    "        if r.status_code not in range(200, 299):\n",
    "            raise Exception(\"Could not authenticate client.\")\n",
    "        \n",
    "        data = r.json()\n",
    "        now = datetime.datetime.now()\n",
    "        access_token = data['access_token']\n",
    "        expires_in = data['expires_in'] # seconds\n",
    "        expires = now + datetime.timedelta(seconds=expires_in)\n",
    "        self.access_token = access_token\n",
    "        self.access_token_expires = expires\n",
    "        self.access_token_did_expire = expires < now\n",
    "        return True\n",
    "    \n",
    "    def get_access_token(self):\n",
    "        token = self.access_token\n",
    "        expires = self.access_token_expires\n",
    "        now = datetime.datetime.now()\n",
    "        if (token == None) or (expires < now):\n",
    "            self.perform_auth()\n",
    "            return self.get_access_token()\n",
    "        return token"
   ]
  },
  {
   "cell_type": "markdown",
   "id": "8db8ada6",
   "metadata": {},
   "source": [
    "<br>\n",
    "\n",
    "# Extracción de datos\n",
    "---"
   ]
  },
  {
   "cell_type": "code",
   "execution_count": 5,
   "id": "e31f4e8f",
   "metadata": {},
   "outputs": [
    {
     "name": "stdout",
     "output_type": "stream",
     "text": [
      "BQCnb3Wg6bvBeBa-tJ1iVIEl-D4JONISLPePaa5x7UoSkif1mcuocCNrZKtQAQcB2qtAWgsWfeM2FJfOI83akUsS7ipJ6lSMfARiHigvxWwRfVZkDeA\n"
     ]
    }
   ],
   "source": [
    "spotify = Spotify_Authorization()"
   ]
  },
  {
   "cell_type": "code",
   "execution_count": 6,
   "id": "e5556f77",
   "metadata": {},
   "outputs": [],
   "source": [
    "'''\n",
    "get_data(access_token, lista, limite, year, type)\n",
    "\n",
    "acces_token: token de acceso a api\n",
    "lista: lista en la que se desea agregar los datos\n",
    "limite: offset máximo\n",
    "year: año del que se desea extraer los datos\n",
    "type: tipo de dato a extraer (artist, album, track)\n",
    "'''\n",
    "def get_data(access_token, lista, limite, year, type):\n",
    "    offset = 0\n",
    "    for _ in range(round(limite/50)):\n",
    "        response = requests.get(\n",
    "         f'https://api.spotify.com/v1/search?q=year%3A{year}&type={type}&limit=50&offset={offset}',\n",
    "            headers={\n",
    "                \"Authorization\": f\"Bearer {access_token}\",\n",
    "                'Content-Type': 'application/json'\n",
    "            }\n",
    "        )\n",
    "        json_resp = response.json()\n",
    "        tipo_aux = f\"{type}s\"\n",
    "        if tipo_aux in list(json_resp.keys()):\n",
    "            current_data = json_resp[tipo_aux]['items']\n",
    "            lista.extend(current_data)\n",
    "            offset += 50\n",
    "        else:\n",
    "            break\n",
    "    return lista\n"
   ]
  },
  {
   "cell_type": "code",
   "execution_count": 15,
   "id": "71d9e59c",
   "metadata": {},
   "outputs": [
    {
     "name": "stdout",
     "output_type": "stream",
     "text": [
      "BQAEvdgXoSQlDIDiOhnEgbUUhgsUdkiJPmBs7kvnK1fXYNklN_7cMzrqbYgmXSZIM-7bA9Doun2mpygbE3Iil5lcl7FvHPqiPpRcqsD9UIvjBKJcAAA \n",
      "\n",
      "Obteniendo artistas…\n",
      "\tAño 2021\n",
      "\tAño 2022\n",
      "Previo a limpieza: 950\n",
      "Posterior a limpieza: 717\n",
      "BQAEvdgXoSQlDIDiOhnEgbUUhgsUdkiJPmBs7kvnK1fXYNklN_7cMzrqbYgmXSZIM-7bA9Doun2mpygbE3Iil5lcl7FvHPqiPpRcqsD9UIvjBKJcAAA\n",
      "\n",
      "Obteniendo albums…\n",
      "\tAño 2021\n",
      "\tAño 2022\n",
      "Previo a limpieza: 1450\n",
      "Posterior a limpieza: 1229\n",
      "BQAEvdgXoSQlDIDiOhnEgbUUhgsUdkiJPmBs7kvnK1fXYNklN_7cMzrqbYgmXSZIM-7bA9Doun2mpygbE3Iil5lcl7FvHPqiPpRcqsD9UIvjBKJcAAA\n",
      "\n",
      "Obteniendo tracks…\n",
      "\tAño 2021\n",
      "\tAño 2022\n",
      "Previo a limpieza: 2000\n",
      "Posterior a limpieza: 2000\n",
      "BQAEvdgXoSQlDIDiOhnEgbUUhgsUdkiJPmBs7kvnK1fXYNklN_7cMzrqbYgmXSZIM-7bA9Doun2mpygbE3Iil5lcl7FvHPqiPpRcqsD9UIvjBKJcAAA\n",
      "\n",
      "Ejecución del programa en minutos: 1.3505062460899353\n"
     ]
    }
   ],
   "source": [
    "access_token = spotify.get_access_token()\n",
    "print(access_token,'\\n')\n",
    "\n",
    "anio_inicio = 2021\n",
    "anio_fin = 2023\n",
    "\n",
    "inicio = time.time()\n",
    "\n",
    "print('Obteniendo artistas…')\n",
    "artistas = []\n",
    "for year in range(anio_inicio, anio_fin):\n",
    "    print(f'\\tAño {year}')\n",
    "    artistas = get_data(access_token, artistas, 1000, year, 'artist')\n",
    "# Limpiamos los artistas para que no haya repetidos\n",
    "artistas_final = list(unique_everseen(artistas))\n",
    "print(f'Previo a limpieza: {len(artistas)}')\n",
    "print(f'Posterior a limpieza: {len(artistas_final)}')\n",
    "print(spotify.access_token)\n",
    "\n",
    "print('\\nObteniendo albums…')\n",
    "albums = []\n",
    "for year in range(anio_inicio, anio_fin):\n",
    "    print(f'\\tAño {year}')\n",
    "    albums = get_data(access_token, albums, 1000, year, 'album')\n",
    "# Limpiamos los albums para que no haya repetidos\n",
    "albums_final = list(unique_everseen(albums))\n",
    "print(f'Previo a limpieza: {len(albums)}')\n",
    "print(f'Posterior a limpieza: {len(albums_final)}')\n",
    "print(spotify.access_token)\n",
    "\n",
    "print('\\nObteniendo tracks…')\n",
    "tracks = []\n",
    "for year in range(anio_inicio, anio_fin):\n",
    "    print(f'\\tAño {year}')\n",
    "    tracks = get_data(access_token, tracks, 1000, year, 'track')\n",
    "# Limpiamos los tracks para que no haya repetidos\n",
    "tracks_final = list(unique_everseen(tracks))\n",
    "print(f'Previo a limpieza: {len(tracks)}')\n",
    "print(f'Posterior a limpieza: {len(tracks_final)}')\n",
    "print(spotify.access_token)\n",
    "\n",
    "fin = time.time()\n",
    "print(f\"\\nEjecución del programa en minutos: {(fin-inicio)/60}\")"
   ]
  },
  {
   "cell_type": "markdown",
   "id": "1c20a786",
   "metadata": {},
   "source": [
    "<br>\n",
    "\n",
    "# Insersión de datos a MongoDB\n",
    "---"
   ]
  },
  {
   "cell_type": "code",
   "execution_count": 8,
   "id": "4c916045",
   "metadata": {},
   "outputs": [
    {
     "data": {
      "text/plain": [
       "\"\\n# Inicializamos MongoClient\\nclient = MongoClient()\\n# Indicamos el servidor (este es el casi siempre se usa)\\nclient = MongoClient('localhost',27017)\\nmydatabase = client.spotify_proyecto\\nmycollection1 = mydatabase.artists\\nmycollection2 = mydatabase.albums\\nmycollection3 = mydatabase.tracks\\nmycollection1.insert_many(artistas_final)\\nmycollection2.insert_many(albums_final)\\nmycollection3.insert_many(tracks_final)\\n\""
      ]
     },
     "execution_count": 8,
     "metadata": {},
     "output_type": "execute_result"
    }
   ],
   "source": [
    "\"\"\"\n",
    "    INCERSIÓN DE DATOS A MONGO\n",
    "\"\"\"\n",
    "\"\"\"\n",
    "# Inicializamos MongoClient\n",
    "client = MongoClient()\n",
    "# Indicamos el servidor (este es el casi siempre se usa)\n",
    "client = MongoClient('localhost',27017)\n",
    "mydatabase = client.spotify_proyecto\n",
    "mycollection1 = mydatabase.artists\n",
    "mycollection2 = mydatabase.albums\n",
    "mycollection3 = mydatabase.tracks\n",
    "mycollection1.insert_many(artistas_final)\n",
    "mycollection2.insert_many(albums_final)\n",
    "mycollection3.insert_many(tracks_final)\n",
    "\"\"\""
   ]
  }
 ],
 "metadata": {
  "kernelspec": {
   "display_name": "Python 3 (ipykernel)",
   "language": "python",
   "name": "python3"
  },
  "language_info": {
   "codemirror_mode": {
    "name": "ipython",
    "version": 3
   },
   "file_extension": ".py",
   "mimetype": "text/x-python",
   "name": "python",
   "nbconvert_exporter": "python",
   "pygments_lexer": "ipython3",
   "version": "3.9.7"
  }
 },
 "nbformat": 4,
 "nbformat_minor": 5
}
